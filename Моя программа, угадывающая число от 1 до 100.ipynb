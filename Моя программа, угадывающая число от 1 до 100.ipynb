{
 "cells": [
  {
   "cell_type": "markdown",
   "metadata": {},
   "source": [
    "# Мой алгоритм:"
   ]
  },
  {
   "cell_type": "code",
   "execution_count": 1,
   "metadata": {},
   "outputs": [],
   "source": [
    "import numpy as np"
   ]
  },
  {
   "cell_type": "code",
   "execution_count": 2,
   "metadata": {},
   "outputs": [],
   "source": [
    "#Функция по подсчёту среднего количества попыток, за которое алгоритм угадывает число:\n",
    "def score_game(game_core):\n",
    "    '''Запускаем игру 1000 раз, чтобы узнать, как быстро игра угадывает число'''\n",
    "    count_ls = []\n",
    "    np.random.seed(1)  # фиксируем RANDOM SEED, чтобы ваш эксперимент был воспроизводим!\n",
    "    random_array = np.random.randint(1,101, size=(1000))\n",
    "    for number in random_array:\n",
    "        count_ls.append(game_core(number))\n",
    "    score = int(np.mean(count_ls))\n",
    "    count = len(count_ls)\n",
    "    print(f\"Было проведено {count} игр\")\n",
    "    print(f\"Ваш алгоритм угадывает число в среднем за {score} попыток\")\n",
    "    return(score , count)"
   ]
  },
  {
   "cell_type": "code",
   "execution_count": 3,
   "metadata": {},
   "outputs": [],
   "source": [
    "def game_core_v3(number):\n",
    "    '''Сначала устанавливаем медианное число = 50, а потом уменьшаем его на 3 \n",
    "    или увеличиваем его на 4 в зависимости от того, больше оно или меньше нужного.\n",
    "    Функция принимает загаданное число и возвращает число попыток.\n",
    "    Особенности функции:\n",
    "    1). Если predict = 2 (такое возможно сразу после 17 попыток: 50 - 16*3), но number < predict, то значит number = 1 \n",
    "    (predict на 3 не уменьшается, а сразу добавляется +1 к числу попыток (=18) и цикл для данного number прерывается);\n",
    "    2). Если predict = 98 (такое возможно сразу после 13 попыток: 50 + 12*4), но number > predict, то значит number = 1 \n",
    "    (predict на 4 не увеличивается, а сначала добавляется +1 к числу попыток (=14) и делается предположение, что predict = 99. \n",
    "    Если оно верное, то number=99 и цикл прерывается для данного number. Если нет, то number = 100, добавляется ещё +1 к \n",
    "    числу попыток (=15) и цикл прерывается для данного number);\n",
    "    3). Если predict = 96 (такое возможно только после 16 попыток: 50 + 12*4 - 3 + 4 - 3), и соответственно number не равно 98,\n",
    "    99,100 (см. 2 пункт), то number=97, добавляется +1 к числу попыток (=17) и цикл прерывается для данного number.\n",
    "       '''\n",
    "    count = 1\n",
    "    \n",
    "    predict = 50\n",
    "    while number != predict:\n",
    "        count+=1\n",
    "        if predict==98 and number > predict: \n",
    "            prediction=99\n",
    "            if prediction == number:\n",
    "                break #predict=99\n",
    "            elif prediction<number:\n",
    "                count+=1\n",
    "                break #predict=100\n",
    "        elif predict == 96 and number > predict:\n",
    "            break#predict=97\n",
    "        elif number > predict: \n",
    "            predict += 4\n",
    "        elif predict==2 and number < predict: \n",
    "            break#predict=1\n",
    "        elif number < predict: \n",
    "            predict -= 3\n",
    "        \n",
    "    return(count) # выход из цикла, если угадали"
   ]
  },
  {
   "cell_type": "code",
   "execution_count": 4,
   "metadata": {},
   "outputs": [
    {
     "name": "stdout",
     "output_type": "stream",
     "text": [
      "Число попыток для угадывания числа \"2\": 17\n",
      "Число попыток для угадывания числа \"1\": 18\n",
      "Число попыток для угадывания числа \"98\": 13\n",
      "Число попыток для угадывания числа \"99\": 14\n",
      "Число попыток для угадывания числа \"100\": 15\n",
      "Число попыток для угадывания числа \"96\": 16\n",
      "Число попыток для угадывания числа \"97\": 17\n"
     ]
    }
   ],
   "source": [
    "# Проверяем то, что описано в пунктах к функции:\n",
    "print('Число попыток для угадывания числа \"2\": {}'.format(game_core_v3(2)))\n",
    "print('Число попыток для угадывания числа \"1\": {}'.format(game_core_v3(1)))\n",
    "print('Число попыток для угадывания числа \"98\": {}'.format(game_core_v3(98)))\n",
    "print('Число попыток для угадывания числа \"99\": {}'.format(game_core_v3(99)))\n",
    "print('Число попыток для угадывания числа \"100\": {}'.format(game_core_v3(100)))\n",
    "print('Число попыток для угадывания числа \"96\": {}'.format(game_core_v3(96)))\n",
    "print('Число попыток для угадывания числа \"97\": {}'.format(game_core_v3(97)))"
   ]
  },
  {
   "cell_type": "code",
   "execution_count": 5,
   "metadata": {},
   "outputs": [
    {
     "name": "stdout",
     "output_type": "stream",
     "text": [
      "Было проведено 1000 игр\n",
      "Ваш алгоритм угадывает число в среднем за 10 попыток\n"
     ]
    },
    {
     "data": {
      "text/plain": [
       "(10, 1000)"
      ]
     },
     "execution_count": 5,
     "metadata": {},
     "output_type": "execute_result"
    }
   ],
   "source": [
    "# Подсчитываем среднее количество попыток, за которое алгоритм угадывает число:\n",
    "score_game(game_core_v3)"
   ]
  },
  {
   "cell_type": "code",
   "execution_count": null,
   "metadata": {},
   "outputs": [],
   "source": []
  }
 ],
 "metadata": {
  "kernelspec": {
   "display_name": "Python 3",
   "language": "python",
   "name": "python3"
  },
  "language_info": {
   "codemirror_mode": {
    "name": "ipython",
    "version": 3
   },
   "file_extension": ".py",
   "mimetype": "text/x-python",
   "name": "python",
   "nbconvert_exporter": "python",
   "pygments_lexer": "ipython3",
   "version": "3.7.4"
  }
 },
 "nbformat": 4,
 "nbformat_minor": 2
}
